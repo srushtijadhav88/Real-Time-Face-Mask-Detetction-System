{
 "cells": [
  {
   "cell_type": "code",
   "execution_count": 119,
   "id": "fbe0e617",
   "metadata": {},
   "outputs": [],
   "source": [
    "import numpy as np\n",
    "import cv2"
   ]
  },
  {
   "cell_type": "code",
   "execution_count": 120,
   "id": "5f42dd5b",
   "metadata": {},
   "outputs": [],
   "source": [
    "with_mask=np.load('with_mask.npy')\n",
    "without_mask=np.load('without_mask.npy')"
   ]
  },
  {
   "cell_type": "code",
   "execution_count": 121,
   "id": "5ccf7874",
   "metadata": {},
   "outputs": [
    {
     "data": {
      "text/plain": [
       "(200, 50, 50, 3)"
      ]
     },
     "execution_count": 121,
     "metadata": {},
     "output_type": "execute_result"
    }
   ],
   "source": [
    "with_mask.shape"
   ]
  },
  {
   "cell_type": "code",
   "execution_count": 122,
   "id": "60e5c6bf",
   "metadata": {},
   "outputs": [
    {
     "data": {
      "text/plain": [
       "(200, 50, 50, 3)"
      ]
     },
     "execution_count": 122,
     "metadata": {},
     "output_type": "execute_result"
    }
   ],
   "source": [
    "without_mask.shape"
   ]
  },
  {
   "cell_type": "code",
   "execution_count": 123,
   "id": "02da0897",
   "metadata": {},
   "outputs": [],
   "source": [
    "with_mask=with_mask.reshape(200, 50 * 50 * 3)\n",
    "without_mask=without_mask.reshape(200, 50 * 50 * 3)"
   ]
  },
  {
   "cell_type": "code",
   "execution_count": 124,
   "id": "c96ca303",
   "metadata": {},
   "outputs": [
    {
     "data": {
      "text/plain": [
       "(200, 7500)"
      ]
     },
     "execution_count": 124,
     "metadata": {},
     "output_type": "execute_result"
    }
   ],
   "source": [
    "with_mask.shape"
   ]
  },
  {
   "cell_type": "code",
   "execution_count": 125,
   "id": "dddf1323",
   "metadata": {},
   "outputs": [
    {
     "data": {
      "text/plain": [
       "(200, 7500)"
      ]
     },
     "execution_count": 125,
     "metadata": {},
     "output_type": "execute_result"
    }
   ],
   "source": [
    "without_mask.shape"
   ]
  },
  {
   "cell_type": "code",
   "execution_count": 126,
   "id": "ae41a1c5",
   "metadata": {},
   "outputs": [],
   "source": [
    "X = np.r_[with_mask,without_mask]"
   ]
  },
  {
   "cell_type": "code",
   "execution_count": 127,
   "id": "1e1060dd",
   "metadata": {},
   "outputs": [
    {
     "data": {
      "text/plain": [
       "(400, 7500)"
      ]
     },
     "execution_count": 127,
     "metadata": {},
     "output_type": "execute_result"
    }
   ],
   "source": [
    "X.shape"
   ]
  },
  {
   "cell_type": "code",
   "execution_count": 128,
   "id": "3ed07e90",
   "metadata": {},
   "outputs": [],
   "source": [
    "labels = np.zeros(X.shape[0])"
   ]
  },
  {
   "cell_type": "code",
   "execution_count": 129,
   "id": "0256f1fb",
   "metadata": {},
   "outputs": [],
   "source": [
    "labels[200:] = 1.0"
   ]
  },
  {
   "cell_type": "code",
   "execution_count": 130,
   "id": "5a625eac",
   "metadata": {},
   "outputs": [],
   "source": [
    "names = { 0:'MASK' , 1:'NO MASK' }"
   ]
  },
  {
   "cell_type": "code",
   "execution_count": 131,
   "id": "8cc676bf",
   "metadata": {},
   "outputs": [],
   "source": [
    "#SVM - Support Vector Machine\n",
    "#SVC - Support Vector Classification\n",
    "from sklearn.svm import SVC\n",
    "from sklearn.metrics import accuracy_score"
   ]
  },
  {
   "cell_type": "code",
   "execution_count": 132,
   "id": "b62f4338",
   "metadata": {},
   "outputs": [],
   "source": [
    "from sklearn.model_selection import train_test_split"
   ]
  },
  {
   "cell_type": "code",
   "execution_count": 133,
   "id": "de260958",
   "metadata": {},
   "outputs": [],
   "source": [
    "x_train, x_test, y_train, y_test = train_test_split(X,labels,test_size = 0.25)"
   ]
  },
  {
   "cell_type": "code",
   "execution_count": 134,
   "id": "6519bc63",
   "metadata": {},
   "outputs": [
    {
     "data": {
      "text/plain": [
       "(300, 7500)"
      ]
     },
     "execution_count": 134,
     "metadata": {},
     "output_type": "execute_result"
    }
   ],
   "source": [
    "x_train.shape"
   ]
  },
  {
   "cell_type": "code",
   "execution_count": 135,
   "id": "4e61e15b",
   "metadata": {},
   "outputs": [],
   "source": [
    "#PCA - Principal Component Analysis\n",
    "from sklearn.decomposition import PCA"
   ]
  },
  {
   "cell_type": "code",
   "execution_count": null,
   "id": "df475d98",
   "metadata": {},
   "outputs": [],
   "source": [
    "#Principal Component Analysis is Mainly Used For Dimensionality Reduction.\n",
    "#As In Our Data We Are Having 300 Rows & 7500 Columns.\n",
    "#So Using PCA we Reducing Column Size To 3 To Make Data 3 Dimensional"
   ]
  },
  {
   "cell_type": "code",
   "execution_count": 136,
   "id": "204f4983",
   "metadata": {},
   "outputs": [],
   "source": [
    "pca = PCA(n_components = 3)\n",
    "x_train=pca.fit_transform(x_train)"
   ]
  },
  {
   "cell_type": "code",
   "execution_count": 137,
   "id": "05c342b8",
   "metadata": {},
   "outputs": [
    {
     "data": {
      "text/plain": [
       "array([ 2138.92034638,    75.15022741, -2457.60273948])"
      ]
     },
     "execution_count": 137,
     "metadata": {},
     "output_type": "execute_result"
    }
   ],
   "source": [
    "x_train[0]"
   ]
  },
  {
   "cell_type": "code",
   "execution_count": 138,
   "id": "a5aba108",
   "metadata": {},
   "outputs": [
    {
     "data": {
      "text/plain": [
       "(300, 3)"
      ]
     },
     "execution_count": 138,
     "metadata": {},
     "output_type": "execute_result"
    }
   ],
   "source": [
    "x_train.shape"
   ]
  },
  {
   "cell_type": "code",
   "execution_count": 139,
   "id": "5a813671",
   "metadata": {},
   "outputs": [],
   "source": [
    "x_train, x_test, y_train, y_test = train_test_split(X,labels,test_size = 0.50)"
   ]
  },
  {
   "cell_type": "code",
   "execution_count": 140,
   "id": "00512107",
   "metadata": {
    "scrolled": true
   },
   "outputs": [
    {
     "data": {
      "text/plain": [
       "SVC()"
      ]
     },
     "execution_count": 140,
     "metadata": {},
     "output_type": "execute_result"
    }
   ],
   "source": [
    "svm = SVC()\n",
    "svm.fit(x_train , y_train)"
   ]
  },
  {
   "cell_type": "code",
   "execution_count": 141,
   "id": "767c3583",
   "metadata": {},
   "outputs": [],
   "source": [
    "#x_test=pca.transform(x_test)\n",
    "y_pred=svm.predict(x_test)"
   ]
  },
  {
   "cell_type": "code",
   "execution_count": 142,
   "id": "fa1ec992",
   "metadata": {},
   "outputs": [
    {
     "data": {
      "text/plain": [
       "0.98"
      ]
     },
     "execution_count": 142,
     "metadata": {},
     "output_type": "execute_result"
    }
   ],
   "source": [
    "accuracy_score(y_test , y_pred)"
   ]
  },
  {
   "cell_type": "code",
   "execution_count": 145,
   "id": "3aa9c695",
   "metadata": {},
   "outputs": [
    {
     "name": "stdout",
     "output_type": "stream",
     "text": [
      "NO MASK\n",
      "NO MASK\n",
      "NO MASK\n",
      "NO MASK\n",
      "NO MASK\n",
      "NO MASK\n",
      "NO MASK\n",
      "NO MASK\n",
      "NO MASK\n",
      "NO MASK\n",
      "NO MASK\n",
      "NO MASK\n",
      "NO MASK\n",
      "NO MASK\n",
      "NO MASK\n",
      "NO MASK\n",
      "NO MASK\n",
      "NO MASK\n",
      "NO MASK\n",
      "NO MASK\n",
      "NO MASK\n",
      "NO MASK\n",
      "NO MASK\n",
      "NO MASK\n",
      "NO MASK\n",
      "NO MASK\n",
      "NO MASK\n",
      "NO MASK\n",
      "NO MASK\n",
      "NO MASK\n",
      "NO MASK\n",
      "NO MASK\n",
      "NO MASK\n",
      "NO MASK\n",
      "NO MASK\n",
      "NO MASK\n",
      "NO MASK\n",
      "NO MASK\n",
      "NO MASK\n",
      "NO MASK\n",
      "NO MASK\n",
      "NO MASK\n",
      "NO MASK\n",
      "NO MASK\n",
      "NO MASK\n",
      "NO MASK\n",
      "NO MASK\n",
      "NO MASK\n",
      "NO MASK\n",
      "NO MASK\n",
      "NO MASK\n",
      "NO MASK\n",
      "NO MASK\n",
      "NO MASK\n",
      "NO MASK\n",
      "NO MASK\n",
      "NO MASK\n",
      "NO MASK\n",
      "NO MASK\n",
      "NO MASK\n",
      "NO MASK\n",
      "NO MASK\n",
      "NO MASK\n",
      "MASK\n",
      "NO MASK\n",
      "NO MASK\n",
      "NO MASK\n",
      "NO MASK\n",
      "MASK\n",
      "NO MASK\n",
      "NO MASK\n",
      "NO MASK\n",
      "NO MASK\n",
      "NO MASK\n",
      "NO MASK\n",
      "NO MASK\n",
      "NO MASK\n",
      "NO MASK\n",
      "NO MASK\n",
      "NO MASK\n",
      "MASK\n",
      "NO MASK\n",
      "NO MASK\n",
      "NO MASK\n",
      "NO MASK\n",
      "NO MASK\n",
      "NO MASK\n",
      "NO MASK\n",
      "NO MASK\n",
      "NO MASK\n",
      "NO MASK\n",
      "NO MASK\n",
      "MASK\n",
      "MASK\n",
      "MASK\n",
      "MASK\n",
      "NO MASK\n",
      "NO MASK\n",
      "MASK\n",
      "MASK\n",
      "MASK\n",
      "MASK\n",
      "MASK\n",
      "MASK\n",
      "MASK\n",
      "MASK\n",
      "MASK\n",
      "MASK\n",
      "MASK\n",
      "MASK\n",
      "MASK\n",
      "MASK\n",
      "MASK\n",
      "MASK\n",
      "MASK\n",
      "MASK\n",
      "MASK\n",
      "MASK\n",
      "MASK\n",
      "MASK\n",
      "MASK\n",
      "MASK\n",
      "MASK\n",
      "MASK\n",
      "MASK\n",
      "MASK\n",
      "MASK\n",
      "MASK\n",
      "MASK\n",
      "MASK\n",
      "MASK\n",
      "MASK\n",
      "MASK\n",
      "MASK\n",
      "MASK\n",
      "MASK\n",
      "MASK\n",
      "MASK\n",
      "MASK\n",
      "MASK\n",
      "MASK\n"
     ]
    }
   ],
   "source": [
    "import numpy as np\n",
    "import cv2\n",
    "\n",
    "# #BEEP\n",
    "#pip install pygame\n",
    "from pygame import mixer\n",
    "mixer.init()\n",
    "sound= mixer.Sound(r'E:\\MITAOE\\SEM VII\\CV\\Project\\Beep Beep.mp3')\n",
    "\n",
    "\n",
    "\n",
    "font_scale = 1.5\n",
    "font = cv2.FONT_HERSHEY_PLAIN\n",
    "\n",
    "# set the rectangle background to white\n",
    "rectangle_bgr = (255, 255, 255)\n",
    "\n",
    "# make a black image\n",
    "img = np.zeros((500, 500))\n",
    "\n",
    "# set some text\n",
    "text = \"Some text in a box!\"\n",
    "# get the width and height of the text box\n",
    "(text_width, text_height) = cv2.getTextSize(text, font, fontScale=font_scale, thickness=1)[0]\n",
    "\n",
    "# set the text start position\n",
    "text_offset_x = 10\n",
    "text_offset_y = img.shape[0] - 25\n",
    "# make the coords of the box with a small padding of two pixels\n",
    "box_coords = ((text_offset_x, text_offset_y), (text_offset_x + text_width + 2, text_offset_y - text_height - 2))\n",
    "cv2.rectangle(img, box_coords[0], box_coords[1], rectangle_bgr, cv2.FILLED)\n",
    "cv2.putText(img, text, (text_offset_x, text_offset_y), font, fontScale=font_scale, color=(0, 0, 0), thickness=1)\n",
    "\n",
    "font_scale = 1.5\n",
    "    \n",
    "font = cv2.FONT_HERSHEY_PLAIN\n",
    "\n",
    "\n",
    "haar_data=cv2.CascadeClassifier('haarcascade_frontalface_default.xml')\n",
    "capture=cv2.VideoCapture(0)\n",
    "data = []\n",
    "while True:\n",
    "    flag,img=capture.read()\n",
    "    if flag:\n",
    "        faces=haar_data.detectMultiScale(img)\n",
    "        for x,y,w,h in faces:\n",
    "            cv2.rectangle(img,(x,y),(x+w,y+h),(255,0,255),4)\n",
    "            face = img[y:y+h , x:x+w , :]\n",
    "            face = cv2.resize(face,(50,50))\n",
    "            face = face.reshape(1,-1)\n",
    "            #face = pca.transform(face)\n",
    "            pred = svm.predict(face)[0]\n",
    "            n = names[int(pred)]\n",
    "            print(n)\n",
    "            \n",
    "            \n",
    "            if (int(pred)==1):\n",
    "                \n",
    "        \n",
    "                \n",
    "                status = \"No Mask\"\n",
    "                \n",
    "                sound.play()\n",
    "                \n",
    "\n",
    "                x1,y1,w1,h1 = 0,0,175,75\n",
    "                #Draw black background rectangle\n",
    "                cv2.rectangle(img, (x1, x1), (x1 + w1, y1 + h1), (0,0,0), -1)\n",
    "                #Add text\n",
    "                cv2.putText(img, status, (x1 + int(w1/10),y1 + int(h1/2)), cv2.FONT_HERSHEY_SIMPLEX, 0.7, (0,0,255), 2)\n",
    "\n",
    "                cv2.putText(img,status,(100, 150), font, 3,(0, 0, 255),2,cv2.LINE_4)\n",
    "\n",
    "                cv2.rectangle(img, (x, y), (x+w, y+h), (0, 0, 255))\n",
    "                \n",
    "          \n",
    "                \n",
    "                \n",
    "\n",
    "            \n",
    "            else:\n",
    "                \n",
    "                status = \"Face Mask\"\n",
    "                \n",
    "                sound.stop()\n",
    "\n",
    "                x1,y1,w1,h1 = 0,0,175,75\n",
    "                # Draw black background rectangle\n",
    "                cv2.rectangle(img, (x1, x1), (x1 + w1, y1 + h1), (0,0,0), -1)\n",
    "                # Add text\n",
    "                cv2.putText(img, status, (x1 + int(w1/10),y1 + int(h1/2)), cv2.FONT_HERSHEY_SIMPLEX, 0.7, (0,255,0), 2)\n",
    "                cv2.putText(img,status,(100, 150), font, 3,(0, 255,0),2,cv2.LINE_4)\n",
    "                cv2.rectangle(img, (x, y), (x+w, y+h), (0, 255,0))\n",
    "            \n",
    "            \n",
    "            \n",
    "    cv2.imshow('Result',img)\n",
    "    #27- ASCII of Escape\n",
    "    if cv2.waitKey(2) == 27:\n",
    "        break\n",
    "        \n",
    "capture.release()\n",
    "cv2.destroyAllWindows()"
   ]
  },
  {
   "cell_type": "code",
   "execution_count": null,
   "id": "b2850999",
   "metadata": {},
   "outputs": [],
   "source": []
  },
  {
   "cell_type": "code",
   "execution_count": null,
   "id": "a2dc76c9",
   "metadata": {},
   "outputs": [],
   "source": []
  },
  {
   "cell_type": "code",
   "execution_count": null,
   "id": "7a5b5ed3",
   "metadata": {},
   "outputs": [],
   "source": []
  },
  {
   "cell_type": "code",
   "execution_count": null,
   "id": "5ee937de",
   "metadata": {},
   "outputs": [],
   "source": []
  },
  {
   "cell_type": "code",
   "execution_count": null,
   "id": "28cb9958",
   "metadata": {},
   "outputs": [],
   "source": []
  },
  {
   "cell_type": "code",
   "execution_count": null,
   "id": "210e139f",
   "metadata": {},
   "outputs": [],
   "source": []
  }
 ],
 "metadata": {
  "kernelspec": {
   "display_name": "Python 3 (ipykernel)",
   "language": "python",
   "name": "python3"
  },
  "language_info": {
   "codemirror_mode": {
    "name": "ipython",
    "version": 3
   },
   "file_extension": ".py",
   "mimetype": "text/x-python",
   "name": "python",
   "nbconvert_exporter": "python",
   "pygments_lexer": "ipython3",
   "version": "3.9.12"
  }
 },
 "nbformat": 4,
 "nbformat_minor": 5
}
